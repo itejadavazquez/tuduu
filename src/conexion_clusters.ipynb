{
 "cells": [
  {
   "cell_type": "code",
   "execution_count": 23,
   "metadata": {},
   "outputs": [],
   "source": [
    "import pandas as pd\n",
    "import glob\n",
    "import warnings\n",
    "import os\n",
    "import requests\n",
    "import gspread\n",
    "from dotenv import load_dotenv\n",
    "\n",
    "load_dotenv()\n",
    "base_id = \"appEX0yBBP1xhAkeL\"\n",
    "api_key = \"keyedN52o4Usdo8DS\"\n",
    "table_name = 'USERS'\n",
    "AIRTABLE_BASE_ID=os.environ.get(base_id)\n",
    "AIRTABLE_API_KEY=os.environ.get(api_key)\n",
    "AIRTABLE_TABLE_NAME=os.environ.get(table_name)\n",
    "AIRTABLE_URL = f\"https://api.airtable.com/v0{AIRTABLE_BASE_ID}\"\n",
    "warnings.filterwarnings('ignore')\n",
    "\n",
    "# Archivo Google Sheets\n",
    "sa = gspread.service_account(filename = './gspread/service_account.json')\n",
    "sh = sa.open('Users TUDUU')\n",
    "wks = sh.worksheet('automatizacion')\n",
    "\n",
    "json = wks.get_all_records()\n",
    "df = pd.DataFrame(json)\n",
    "\n",
    "load_dotenv()\n",
    "\n",
    "path = r'cluster_2_1/' # use your path\n",
    "#save into df all files\n",
    "all_files = glob.glob(path + \"/*.xlsx\")"
   ]
  },
  {
   "cell_type": "code",
   "execution_count": 24,
   "metadata": {},
   "outputs": [],
   "source": [
    "# Para conectarnos a AirTable\n",
    "\n",
    "#!pip install pyairtable\n",
    "#!pip airtable install airtable-python-wrapper\n",
    "from pyairtable import Table\n",
    "table = Table(api_key, base_id, table_name)"
   ]
  },
  {
   "cell_type": "code",
   "execution_count": 26,
   "metadata": {},
   "outputs": [],
   "source": [
    "tipos_consumidores = pd.DataFrame(pd.DataFrame(table.all(fields = [' Email', 'Tipo de consumidor']))['fields'].tolist())"
   ]
  },
  {
   "cell_type": "code",
   "execution_count": 27,
   "metadata": {},
   "outputs": [
    {
     "data": {
      "text/html": [
       "<div>\n",
       "<style scoped>\n",
       "    .dataframe tbody tr th:only-of-type {\n",
       "        vertical-align: middle;\n",
       "    }\n",
       "\n",
       "    .dataframe tbody tr th {\n",
       "        vertical-align: top;\n",
       "    }\n",
       "\n",
       "    .dataframe thead th {\n",
       "        text-align: right;\n",
       "    }\n",
       "</style>\n",
       "<table border=\"1\" class=\"dataframe\">\n",
       "  <thead>\n",
       "    <tr style=\"text-align: right;\">\n",
       "      <th></th>\n",
       "      <th>Email</th>\n",
       "      <th>Tipo de consumidor</th>\n",
       "    </tr>\n",
       "  </thead>\n",
       "  <tbody>\n",
       "    <tr>\n",
       "      <th>0</th>\n",
       "      <td>golgolgol@gmail.com</td>\n",
       "      <td>NaN</td>\n",
       "    </tr>\n",
       "    <tr>\n",
       "      <th>1</th>\n",
       "      <td>itejadavazquez@gmail.com</td>\n",
       "      <td>NaN</td>\n",
       "    </tr>\n",
       "    <tr>\n",
       "      <th>2</th>\n",
       "      <td>sara.martinezz@alumni.mondragon.edu</td>\n",
       "      <td>NaN</td>\n",
       "    </tr>\n",
       "    <tr>\n",
       "      <th>3</th>\n",
       "      <td>paula.sevillano@alumni.mondragon.edu</td>\n",
       "      <td>NaN</td>\n",
       "    </tr>\n",
       "    <tr>\n",
       "      <th>4</th>\n",
       "      <td>a@o.com</td>\n",
       "      <td>NaN</td>\n",
       "    </tr>\n",
       "    <tr>\n",
       "      <th>...</th>\n",
       "      <td>...</td>\n",
       "      <td>...</td>\n",
       "    </tr>\n",
       "    <tr>\n",
       "      <th>80</th>\n",
       "      <td>alberto.camarero@alumni.mondragon.edu</td>\n",
       "      <td>NaN</td>\n",
       "    </tr>\n",
       "    <tr>\n",
       "      <th>81</th>\n",
       "      <td>glfkddd@gmail.com</td>\n",
       "      <td>NaN</td>\n",
       "    </tr>\n",
       "    <tr>\n",
       "      <th>82</th>\n",
       "      <td>teja@gmail.com</td>\n",
       "      <td>NaN</td>\n",
       "    </tr>\n",
       "    <tr>\n",
       "      <th>83</th>\n",
       "      <td>aiora.iturmendi@gmail.com</td>\n",
       "      <td>NaN</td>\n",
       "    </tr>\n",
       "    <tr>\n",
       "      <th>84</th>\n",
       "      <td>prueba@gmail.com\\n</td>\n",
       "      <td>NaN</td>\n",
       "    </tr>\n",
       "  </tbody>\n",
       "</table>\n",
       "<p>85 rows × 2 columns</p>\n",
       "</div>"
      ],
      "text/plain": [
       "                                    Email Tipo de consumidor\n",
       "0                     golgolgol@gmail.com                NaN\n",
       "1                itejadavazquez@gmail.com                NaN\n",
       "2     sara.martinezz@alumni.mondragon.edu                NaN\n",
       "3    paula.sevillano@alumni.mondragon.edu                NaN\n",
       "4                                 a@o.com                NaN\n",
       "..                                    ...                ...\n",
       "80  alberto.camarero@alumni.mondragon.edu                NaN\n",
       "81                      glfkddd@gmail.com                NaN\n",
       "82                         teja@gmail.com                NaN\n",
       "83              aiora.iturmendi@gmail.com                NaN\n",
       "84                     prueba@gmail.com\\n                NaN\n",
       "\n",
       "[85 rows x 2 columns]"
      ]
     },
     "execution_count": 27,
     "metadata": {},
     "output_type": "execute_result"
    }
   ],
   "source": [
    "tipos_consumidores"
   ]
  },
  {
   "cell_type": "code",
   "execution_count": 112,
   "metadata": {},
   "outputs": [
    {
     "data": {
      "text/plain": [
       "0      \n",
       "1      \n",
       "2      \n",
       "3      \n",
       "4      \n",
       "     ..\n",
       "83     \n",
       "84     \n",
       "85     \n",
       "86     \n",
       "87     \n",
       "Name: cluster, Length: 88, dtype: object"
      ]
     },
     "execution_count": 112,
     "metadata": {},
     "output_type": "execute_result"
    }
   ],
   "source": [
    "# los clusters los deciden los propios clientes a la hora de hacer el test\n",
    "import numpy as np\n",
    "tipos_consumidores['cluster'] = ''\n",
    "tipos_consumidores['cluster']  = np.where(tipos_consumidores['Tipo de consumidor']=='Como muy sano y hago deporte', str(1), tipos_consumidores['cluster'])\n",
    "tipos_consumidores['cluster']  = np.where(tipos_consumidores['Tipo de consumidor']=='Dieta equilibrada, sin excesos', str(2), tipos_consumidores['cluster'])\n",
    "tipos_consumidores['cluster']  = np.where(tipos_consumidores['Tipo de consumidor']=='Como sano pero me gusta caer en la tentación', str(3), tipos_consumidores['cluster'])\n",
    "tipos_consumidores['cluster']  = np.where(tipos_consumidores['Tipo de consumidor']=='No me quito nada, como de todo', str(4), tipos_consumidores['cluster'])\n",
    "# Ahora hay muchos nan porque al registrarnos no hemos hecho el test, con los registros reales no \n",
    "# debería de haber ningún nan; todos tienen que hacer el test\n",
    "# Los de prueba los metemos en el cluster 4\n",
    "tipos_consumidores['cluster'] = tipos_consumidores['cluster'].fillna(str(4))"
   ]
  },
  {
   "cell_type": "code",
   "execution_count": null,
   "metadata": {},
   "outputs": [],
   "source": [
    "# hasta aquí hemos llegado a conseguir la información del tipo de consumidor; ahora, tendríamos que conseguir comprobar qué usuario es el que ha entrado nuevo, es decir, en qué usuario detecta el \"change\" y coger el tipo de consumidor que le pertenece a ese usuario."
   ]
  },
  {
   "cell_type": "code",
   "execution_count": 1,
   "metadata": {},
   "outputs": [],
   "source": [
    "import gspread\n",
    "import time\n",
    "import pandas as pd\n",
    "import os\n",
    "import requests\n",
    "from dotenv import load_dotenv\n",
    "\n",
    "sa = gspread.service_account(filename = './gspread/service_account.json')\n",
    "sh = sa.open('Users TUDUU')\n",
    "wks = sh.worksheet('automatizacion')\n",
    "wks2 = sh.worksheet('productos')\n",
    "json = wks.get_all_records()\n",
    "json2 = wks2.get_all_records()\n",
    "df = pd.DataFrame(json)\n",
    "df_prod = pd.DataFrame(json2)\n",
    "\n",
    "load_dotenv()\n",
    "AIRTABLE_BASE_ID=os.environ.get(\"appEX0yBBP1xhAkeL\")\n",
    "AIRTABLE_API_KEY=os.environ.get(\"keyedN52o4Usdo8DS\")\n",
    "AIRTABLE_TABLE_NAME=os.environ.get(\"Cabeceras\")\n",
    "AIRTABLE_TABLE_NAME2=os.environ.get(\"Users\")"
   ]
  },
  {
   "cell_type": "code",
   "execution_count": 16,
   "metadata": {},
   "outputs": [],
   "source": [
    "df2 = pd.DataFrame(wks.get_all_records())"
   ]
  },
  {
   "cell_type": "code",
   "execution_count": 29,
   "metadata": {},
   "outputs": [
    {
     "data": {
      "text/html": [
       "<div>\n",
       "<style scoped>\n",
       "    .dataframe tbody tr th:only-of-type {\n",
       "        vertical-align: middle;\n",
       "    }\n",
       "\n",
       "    .dataframe tbody tr th {\n",
       "        vertical-align: top;\n",
       "    }\n",
       "\n",
       "    .dataframe thead th {\n",
       "        text-align: right;\n",
       "    }\n",
       "</style>\n",
       "<table border=\"1\" class=\"dataframe\">\n",
       "  <thead>\n",
       "    <tr style=\"text-align: right;\">\n",
       "      <th></th>\n",
       "      <th>user</th>\n",
       "      <th>email</th>\n",
       "    </tr>\n",
       "  </thead>\n",
       "  <tbody>\n",
       "    <tr>\n",
       "      <th>0</th>\n",
       "      <td>cesta</td>\n",
       "      <td>user</td>\n",
       "    </tr>\n",
       "    <tr>\n",
       "      <th>1</th>\n",
       "      <td>cesta</td>\n",
       "      <td>user</td>\n",
       "    </tr>\n",
       "    <tr>\n",
       "      <th>2</th>\n",
       "      <td>cesta</td>\n",
       "      <td>user</td>\n",
       "    </tr>\n",
       "    <tr>\n",
       "      <th>3</th>\n",
       "      <td>cesta</td>\n",
       "      <td>user</td>\n",
       "    </tr>\n",
       "    <tr>\n",
       "      <th>4</th>\n",
       "      <td>cesta</td>\n",
       "      <td>user</td>\n",
       "    </tr>\n",
       "    <tr>\n",
       "      <th>5</th>\n",
       "      <td>cesta</td>\n",
       "      <td>user</td>\n",
       "    </tr>\n",
       "    <tr>\n",
       "      <th>6</th>\n",
       "      <td>cesta</td>\n",
       "      <td>user</td>\n",
       "    </tr>\n",
       "    <tr>\n",
       "      <th>7</th>\n",
       "      <td>cesta</td>\n",
       "      <td>user</td>\n",
       "    </tr>\n",
       "    <tr>\n",
       "      <th>8</th>\n",
       "      <td>cesta</td>\n",
       "      <td>user</td>\n",
       "    </tr>\n",
       "    <tr>\n",
       "      <th>9</th>\n",
       "      <td>cesta</td>\n",
       "      <td>user</td>\n",
       "    </tr>\n",
       "    <tr>\n",
       "      <th>10</th>\n",
       "      <td>cesta</td>\n",
       "      <td>user</td>\n",
       "    </tr>\n",
       "    <tr>\n",
       "      <th>11</th>\n",
       "      <td>cesta</td>\n",
       "      <td>user</td>\n",
       "    </tr>\n",
       "    <tr>\n",
       "      <th>12</th>\n",
       "      <td>hola</td>\n",
       "      <td>g</td>\n",
       "    </tr>\n",
       "  </tbody>\n",
       "</table>\n",
       "</div>"
      ],
      "text/plain": [
       "     user email\n",
       "0   cesta  user\n",
       "1   cesta  user\n",
       "2   cesta  user\n",
       "3   cesta  user\n",
       "4   cesta  user\n",
       "5   cesta  user\n",
       "6   cesta  user\n",
       "7   cesta  user\n",
       "8   cesta  user\n",
       "9   cesta  user\n",
       "10  cesta  user\n",
       "11  cesta  user\n",
       "12   hola     g"
      ]
     },
     "execution_count": 29,
     "metadata": {},
     "output_type": "execute_result"
    }
   ],
   "source": [
    "df"
   ]
  },
  {
   "cell_type": "code",
   "execution_count": 28,
   "metadata": {},
   "outputs": [
    {
     "ename": "KeyError",
     "evalue": "' Email'",
     "output_type": "error",
     "traceback": [
      "\u001b[0;31m---------------------------------------------------------------------------\u001b[0m",
      "\u001b[0;31mKeyError\u001b[0m                                  Traceback (most recent call last)",
      "File \u001b[0;32m/opt/anaconda3/envs/tuduu/lib/python3.10/site-packages/pandas/core/indexes/base.py:3621\u001b[0m, in \u001b[0;36mIndex.get_loc\u001b[0;34m(self, key, method, tolerance)\u001b[0m\n\u001b[1;32m   3620\u001b[0m \u001b[39mtry\u001b[39;00m:\n\u001b[0;32m-> 3621\u001b[0m     \u001b[39mreturn\u001b[39;00m \u001b[39mself\u001b[39;49m\u001b[39m.\u001b[39;49m_engine\u001b[39m.\u001b[39;49mget_loc(casted_key)\n\u001b[1;32m   3622\u001b[0m \u001b[39mexcept\u001b[39;00m \u001b[39mKeyError\u001b[39;00m \u001b[39mas\u001b[39;00m err:\n",
      "File \u001b[0;32m/opt/anaconda3/envs/tuduu/lib/python3.10/site-packages/pandas/_libs/index.pyx:136\u001b[0m, in \u001b[0;36mpandas._libs.index.IndexEngine.get_loc\u001b[0;34m()\u001b[0m\n",
      "File \u001b[0;32m/opt/anaconda3/envs/tuduu/lib/python3.10/site-packages/pandas/_libs/index.pyx:163\u001b[0m, in \u001b[0;36mpandas._libs.index.IndexEngine.get_loc\u001b[0;34m()\u001b[0m\n",
      "File \u001b[0;32mpandas/_libs/hashtable_class_helper.pxi:5198\u001b[0m, in \u001b[0;36mpandas._libs.hashtable.PyObjectHashTable.get_item\u001b[0;34m()\u001b[0m\n",
      "File \u001b[0;32mpandas/_libs/hashtable_class_helper.pxi:5206\u001b[0m, in \u001b[0;36mpandas._libs.hashtable.PyObjectHashTable.get_item\u001b[0;34m()\u001b[0m\n",
      "\u001b[0;31mKeyError\u001b[0m: ' Email'",
      "\nThe above exception was the direct cause of the following exception:\n",
      "\u001b[0;31mKeyError\u001b[0m                                  Traceback (most recent call last)",
      "Cell \u001b[0;32mIn[28], line 1\u001b[0m\n\u001b[0;32m----> 1\u001b[0m df2[\u001b[39m~\u001b[39;49mdf2\u001b[39m.\u001b[39;49misin(df)]\u001b[39m.\u001b[39;49mdropna()[\u001b[39m'\u001b[39;49m\u001b[39m Email\u001b[39;49m\u001b[39m'\u001b[39;49m]\n",
      "File \u001b[0;32m/opt/anaconda3/envs/tuduu/lib/python3.10/site-packages/pandas/core/frame.py:3505\u001b[0m, in \u001b[0;36mDataFrame.__getitem__\u001b[0;34m(self, key)\u001b[0m\n\u001b[1;32m   3503\u001b[0m \u001b[39mif\u001b[39;00m \u001b[39mself\u001b[39m\u001b[39m.\u001b[39mcolumns\u001b[39m.\u001b[39mnlevels \u001b[39m>\u001b[39m \u001b[39m1\u001b[39m:\n\u001b[1;32m   3504\u001b[0m     \u001b[39mreturn\u001b[39;00m \u001b[39mself\u001b[39m\u001b[39m.\u001b[39m_getitem_multilevel(key)\n\u001b[0;32m-> 3505\u001b[0m indexer \u001b[39m=\u001b[39m \u001b[39mself\u001b[39;49m\u001b[39m.\u001b[39;49mcolumns\u001b[39m.\u001b[39;49mget_loc(key)\n\u001b[1;32m   3506\u001b[0m \u001b[39mif\u001b[39;00m is_integer(indexer):\n\u001b[1;32m   3507\u001b[0m     indexer \u001b[39m=\u001b[39m [indexer]\n",
      "File \u001b[0;32m/opt/anaconda3/envs/tuduu/lib/python3.10/site-packages/pandas/core/indexes/base.py:3623\u001b[0m, in \u001b[0;36mIndex.get_loc\u001b[0;34m(self, key, method, tolerance)\u001b[0m\n\u001b[1;32m   3621\u001b[0m     \u001b[39mreturn\u001b[39;00m \u001b[39mself\u001b[39m\u001b[39m.\u001b[39m_engine\u001b[39m.\u001b[39mget_loc(casted_key)\n\u001b[1;32m   3622\u001b[0m \u001b[39mexcept\u001b[39;00m \u001b[39mKeyError\u001b[39;00m \u001b[39mas\u001b[39;00m err:\n\u001b[0;32m-> 3623\u001b[0m     \u001b[39mraise\u001b[39;00m \u001b[39mKeyError\u001b[39;00m(key) \u001b[39mfrom\u001b[39;00m \u001b[39merr\u001b[39;00m\n\u001b[1;32m   3624\u001b[0m \u001b[39mexcept\u001b[39;00m \u001b[39mTypeError\u001b[39;00m:\n\u001b[1;32m   3625\u001b[0m     \u001b[39m# If we have a listlike key, _check_indexing_error will raise\u001b[39;00m\n\u001b[1;32m   3626\u001b[0m     \u001b[39m#  InvalidIndexError. Otherwise we fall through and re-raise\u001b[39;00m\n\u001b[1;32m   3627\u001b[0m     \u001b[39m#  the TypeError.\u001b[39;00m\n\u001b[1;32m   3628\u001b[0m     \u001b[39mself\u001b[39m\u001b[39m.\u001b[39m_check_indexing_error(key)\n",
      "\u001b[0;31mKeyError\u001b[0m: ' Email'"
     ]
    }
   ],
   "source": [
    "df2[~df2.isin(df)].dropna()['Email']"
   ]
  },
  {
   "cell_type": "code",
   "execution_count": 14,
   "metadata": {},
   "outputs": [
    {
     "name": "stdout",
     "output_type": "stream",
     "text": [
      "No change\n"
     ]
    },
    {
     "ename": "KeyboardInterrupt",
     "evalue": "",
     "output_type": "error",
     "traceback": [
      "\u001b[0;31m---------------------------------------------------------------------------\u001b[0m",
      "\u001b[0;31mKeyboardInterrupt\u001b[0m                         Traceback (most recent call last)",
      "Cell \u001b[0;32mIn[14], line 48\u001b[0m\n\u001b[1;32m     43\u001b[0m     \u001b[39mprint\u001b[39m(r\u001b[39m.\u001b[39mstatus_code)\n\u001b[1;32m     44\u001b[0m     os\u001b[39m.\u001b[39msystem(\u001b[39m'\u001b[39m\u001b[39mpython final_model.py\u001b[39m\u001b[39m'\u001b[39m)\n\u001b[0;32m---> 48\u001b[0m time\u001b[39m.\u001b[39;49msleep(\u001b[39m5\u001b[39;49m)\n",
      "\u001b[0;31mKeyboardInterrupt\u001b[0m: "
     ]
    }
   ],
   "source": [
    "while True:\n",
    "    df2 = pd.DataFrame(wks.get_all_records())\n",
    "    if df.equals(df2):\n",
    "        print('No change')\n",
    "        \n",
    "    else:\n",
    "        print('Change')\n",
    "        # print changes\n",
    "        print(df2[~df2.isin(df)].dropna())\n",
    "        #get values\n",
    "        changes = df2[~df2.isin(df)].dropna()\n",
    "        print(changes)\n",
    "        df = df2\n",
    "\n",
    "        # get change\n",
    "\n",
    "        # run local script\n",
    "\n",
    "        endpoint=f'https://api.airtable.com/v0/appEX0yBBP1xhAkeL/Cabeceras'\n",
    "\n",
    "\n",
    "        headers = {\n",
    "            \"Authorization\": f\"Bearer keyedN52o4Usdo8DS \",\n",
    "            \"Content-Type\": \"application/json\"\n",
    "        }\n",
    "\n",
    "        data = {\n",
    "        \"records\": [\n",
    "            {\n",
    "            \"fields\": {\n",
    "                \"Cesta\": changes['cesta'].values[0],\n",
    "                \"Email\": changes['Email'].values[0]\n",
    "            }\n",
    "            }\n",
    "        ]\n",
    "        }\n",
    "        r = requests.post(endpoint, json=data, headers=headers)\n",
    "        print('llega')\n",
    "        \n",
    "        record_id = r.json()['records'][0]['id']\n",
    "        #save record id to use in the next script\n",
    "        print(record_id)\n",
    "        print(r.status_code)\n",
    "        os.system('python final_model.py')\n",
    "        \n",
    "\n",
    "        \n",
    "    time.sleep(5)"
   ]
  },
  {
   "cell_type": "code",
   "execution_count": null,
   "metadata": {},
   "outputs": [],
   "source": []
  }
 ],
 "metadata": {
  "kernelspec": {
   "display_name": "tuduu",
   "language": "python",
   "name": "python3"
  },
  "language_info": {
   "codemirror_mode": {
    "name": "ipython",
    "version": 3
   },
   "file_extension": ".py",
   "mimetype": "text/x-python",
   "name": "python",
   "nbconvert_exporter": "python",
   "pygments_lexer": "ipython3",
   "version": "3.10.8 (main, Nov 24 2022, 08:09:04) [Clang 14.0.6 ]"
  },
  "orig_nbformat": 4,
  "vscode": {
   "interpreter": {
    "hash": "64e18713956ab5a90aaccdc45f713bdbd8fca881e4217159cada69fc241a9a73"
   }
  }
 },
 "nbformat": 4,
 "nbformat_minor": 2
}
