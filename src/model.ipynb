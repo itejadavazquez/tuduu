{
 "cells": [
  {
   "cell_type": "code",
   "execution_count": 41,
   "metadata": {},
   "outputs": [],
   "source": [
    "import pandas as pd\n",
    "import glob\n",
    "import warnings\n",
    "import os\n",
    "import requests\n",
    "import gspread\n",
    "from dotenv import load_dotenv\n",
    "\n",
    "load_dotenv()\n",
    "base_id = \"appEX0yBBP1xhAkeL\"\n",
    "api_key = \"keyedN52o4Usdo8DS\"\n",
    "table_name = 'USERS'\n",
    "AIRTABLE_BASE_ID=os.environ.get(base_id)\n",
    "AIRTABLE_API_KEY=os.environ.get(api_key)\n",
    "AIRTABLE_TABLE_NAME=os.environ.get(table_name)\n",
    "AIRTABLE_URL = f\"https://api.airtable.com/v0{AIRTABLE_BASE_ID}\"\n",
    "warnings.filterwarnings('ignore')\n",
    "\n",
    "# Archivo Google Sheets\n",
    "sa = gspread.service_account(filename = './gspread/service_account.json')\n",
    "sh = sa.open('Users TUDUU')\n",
    "wks = sh.worksheet('automatizacion')\n",
    "\n",
    "json = wks.get_all_records()\n",
    "df = pd.DataFrame(json)\n",
    "\n",
    "load_dotenv()\n",
    "\n",
    "path = r'cluster_2_1/' # use your path\n",
    "#save into df all files\n",
    "all_files = glob.glob(path + \"/*.xlsx\")"
   ]
  },
  {
   "cell_type": "code",
   "execution_count": 43,
   "metadata": {},
   "outputs": [],
   "source": [
    "# Para conectarnos a AirTable\n",
    "\n",
    "#!pip install pyairtable\n",
    "#!pip airtable install airtable-python-wrapper\n",
    "from pyairtable import Table\n",
    "table = Table(api_key, base_id, table_name)"
   ]
  },
  {
   "attachments": {},
   "cell_type": "markdown",
   "metadata": {},
   "source": [
    "**Clusters**:\n",
    "* Como muy sano y hago deporte -> 1\n",
    "* Dieta equilibrada, sin excesos -> 2\n",
    "* Como sano pero me gusta caer en la tentación… -> 3\n",
    "* No me quito nada, como de todo -> 4\n"
   ]
  },
  {
   "cell_type": "code",
   "execution_count": 110,
   "metadata": {},
   "outputs": [],
   "source": [
    "tipos_consumidores = pd.DataFrame(pd.DataFrame(table.all(fields = [' Email', 'Tipo de consumidor']))['fields'].tolist())"
   ]
  },
  {
   "cell_type": "code",
   "execution_count": 112,
   "metadata": {},
   "outputs": [
    {
     "data": {
      "text/plain": [
       "0      \n",
       "1      \n",
       "2      \n",
       "3      \n",
       "4      \n",
       "     ..\n",
       "83     \n",
       "84     \n",
       "85     \n",
       "86     \n",
       "87     \n",
       "Name: cluster, Length: 88, dtype: object"
      ]
     },
     "execution_count": 112,
     "metadata": {},
     "output_type": "execute_result"
    }
   ],
   "source": [
    "# los clusters los deciden los propios clientes a la hora de hacer el test\n",
    "import numpy as np\n",
    "tipos_consumidores['cluster'] = ''\n",
    "tipos_consumidores['cluster']  = np.where(tipos_consumidores['Tipo de consumidor']=='Como muy sano y hago deporte', str(1), tipos_consumidores['cluster'])\n",
    "tipos_consumidores['cluster']  = np.where(tipos_consumidores['Tipo de consumidor']=='Dieta equilibrada, sin excesos', str(2), tipos_consumidores['cluster'])\n",
    "tipos_consumidores['cluster']  = np.where(tipos_consumidores['Tipo de consumidor']=='Como sano pero me gusta caer en la tentación', str(3), tipos_consumidores['cluster'])\n",
    "tipos_consumidores['cluster']  = np.where(tipos_consumidores['Tipo de consumidor']=='No me quito nada, como de todo', str(4), tipos_consumidores['cluster'])\n",
    "# Ahora hay muchos nan porque al registrarnos no hemos hecho el test, con los registros reales no \n",
    "# debería de haber ningún nan; todos tienen que hacer el test\n",
    "# Los de prueba los metemos en el cluster 4\n",
    "tipos_consumidores['cluster'].fillna(str(4))"
   ]
  },
  {
   "cell_type": "code",
   "execution_count": null,
   "metadata": {},
   "outputs": [],
   "source": [
    "# hasta aquí hemos llegado a conseguir la información del tipo de consumidor; ahora, tendríamos que conseguir comprobar qué usuario es el que ha entrado nuevo, es decir, en qué usuario detecta el \"change\" y coger el tipo de consumidor que le pertenece a ese usuario."
   ]
  },
  {
   "cell_type": "code",
   "execution_count": 113,
   "metadata": {},
   "outputs": [],
   "source": [
    "li = dict()\n",
    "for filename in all_files:\n",
    "    df = pd.read_excel(filename, index_col=None, header=0)\n",
    "    filename = filename.split('/')[1].split('.')[0]\n",
    "    df['prob'] = 1/len(df)\n",
    "    li[filename] = df"
   ]
  },
  {
   "cell_type": "code",
   "execution_count": 114,
   "metadata": {},
   "outputs": [],
   "source": [
    "\n",
    "def is_in_list(a, b):\n",
    "    a = a.split(' ')\n",
    "    a = [word.lower() for word in a]\n",
    "    return any(i in a for i in b)\n",
    "\n",
    "\n",
    "def set_probabilities(tipo_cluster):\n",
    "    for i in range(len(li['Desayuno'] )):\n",
    "        if is_in_list(li['Desayuno'][' Name'][i], tipo_cluster[0]):\n",
    "            li['Desayuno']['prob'][i] *= 100\n",
    "    for i in range(len(li['comida_cena'] )):\n",
    "        if is_in_list(li['comida_cena'][' Name'][i], tipo_cluster[1]):\n",
    "            li['comida_cena']['prob'][i] *= 100\n",
    "    for i in range(len(li['entre_horas'] )):\n",
    "        if is_in_list(li['entre_horas'][' Name'][i], tipo_cluster[2]):\n",
    "            li['entre_horas']['prob'][i] *= 100\n",
    "    Desayuno = li['Desayuno']\n",
    "    comida_cena = li['comida_cena']\n",
    "    entre_horas = li['entre_horas']\n",
    "    Cuidado_personal = li['Cuidado_personal']\n",
    "    Hogar = li['Hogar']\n",
    "    return Desayuno, comida_cena, entre_horas, Cuidado_personal, Hogar\n",
    "\n"
   ]
  },
  {
   "cell_type": "code",
   "execution_count": 115,
   "metadata": {},
   "outputs": [],
   "source": [
    "probx3_2_1_desayuno = ['cereales', 'pan', 'tostada', 'palitos', 'baguette', 'hogaza', 'baguettes', 'panadería', 'cereales','aceite',  'tostadas','galletas','tortitas', 'leche', 'cerezas', 'manzana', 'plátano', 'fresa', 'higos', 'paraguayo', 'nectarina','manzana', 'aguacates', 'mango', 'aguacate',  'limón', 'melón', 'sandía', 'kiwis', 'bífidus', 'queso', 'yogur', 'mantequilla']\n",
    "probx3_2_1_comida_cena = ['huevo','huevos','tortiglioni','helice','tallarín','cannelloni','fusilli','pasta', 'macarrón', 'tallarines', 'garbanzos', 'lentejas', 'alubias','albóndigas','entrecot','burguer','solomillo','salchichas','bacalao','mejillones','almejas', 'bonito','langostino','atún', 'rodaballo', 'rape', 'merluza','gallo', 'dorada', 'lubina','lenguado', 'calamar','sepia','gambón','filete','cebolla', 'ajo','zanahoria', 'albahaca', 'calabaza','salmorejo','sopa', 'gazpacho', 'patatas', 'patata', 'arroz', 'tomate', 'pollo,','proteínas', 'pollo', 'salmón','arroz','tiramisú','mousse','flan', 'helado','ensalada','champiñones','pimientos', 'espinacas','cebolla','lechuga', 'iceberg','zanahoria', 'brócoli', 'berenjena','berenjenas', 'coliflor', 'pepino','alcachofa','tomate', 'puerro', 'calabaza', 'calabacín','pimiento','patata', 'remolacha', 'zanahoria', 'cebolla', 'ajo','ajos','puerro','espárrago','canónigos', 'coliflor','champiñón', 'seta','zanahorias', 'tomates']\n",
    "probx3_2_1_entre_horas = [ 'chocolate', 'galletas','cheesecake', 'copa','brownie','cacao', 'choco', 'berlina', 'gofres', 'sobaos', 'croissant','snack','chocolate', 'pizza', 'tarta', 'hamburguesa','mayonesa', 'nata', 'paté','nachos','york','quesos','morcilla', 'ibéricos', 'ibérico','jamón', 'chorizo','paletilla', 'ibérica', 'salchichón', 'longaniza','paleta','lonchas', 'pavo', 'fiambre','lonchas']\n",
    "cluster1 = [probx3_2_1_desayuno, probx3_2_1_comida_cena, probx3_2_1_entre_horas]\n",
    "\n",
    "prob_3_2_2_desayuno = ['cereales','pan', 'tostada', 'palitos', 'baguette','hogaza','baguettes', 'panadería','cereales','aceite',  'tostadas','galletas','leche','cerezas','albaricoque', 'manzana', 'plátano', 'fresa','uvas','ciruela', 'higos', 'paraguayo','naranja', 'mandarina', 'uva', 'peras', 'pera', 'piña','manzanas', 'manzana', 'banana', 'ciruelas', 'paraguayos', 'frambuesas', 'aguacates', 'mango', 'aguacate','limón', 'melón', 'sandía', 'kiwis','bífidus','yogur','cereales', 'pan', 'tostada', 'palitos', 'baguette', 'hogaza', 'baguettes', 'panadería', 'cereales','aceite',  'tostadas','galletas','tortitas', 'leche', 'cerezas', 'manzana', 'plátano', 'fresa', 'higos', 'paraguayo', 'nectarina','manzana', 'aguacates', 'mango', 'aguacate',  'limón', 'melón', 'sandía', 'kiwis', 'bífidus', 'queso', 'yogur', 'mantequilla','zumo','leche']\n",
    "prob_3_2_2_comida_cena = ['huevo','huevos','tortiglioni','helice','tallarín','cannelloni','fusilli','pasta', 'spaghetti','macarrón', 'tallarines','garbanzo','legumbre', 'garbanzos', 'lentejas', 'alubias', 'lenteja', 'alubia', 'lomo', 'cerdo', 'pollo', 'pechuga','solomillo', 'bonito', 'atún', 'rodaballo', 'rape', 'merluza','gallo', 'dorada', 'lubina','lenguado', 'calamar','filete','cebolla', 'ajo', 'espinaca', 'alcachofa', 'zanahoria', 'albahaca', 'calabaza', 'remolacha', 'salmorejo','sopa', 'gazpacho','patatas', 'patata', 'arroz', 'tomate','pollo,','proteínas', 'pollo', 'salmón','arroz','tiramisú','mousse', 'flan', 'helado','ensalada','alcachofas','champiñones','alcachofa','verduras','verdura', 'pimientos', 'espinacas', 'cebolla','haba', 'rollitos', 'rodajas', 'lechuga', 'iceberg', 'zanahoria', 'brócoli', 'berenjena','judía','berenjenas', 'coliflor', 'pepino', 'escarola', 'alcachofa', 'tomate', 'puerro', 'calabaza', 'calabacín', 'pimiento', 'patata', 'remolacha', 'zanahoria', 'cebolla', 'ajo','ajos','puerro', 'maíz','remolacha', 'espárrago', 'puerro', 'espinaca','rúcula', 'lechuga', 'canónigos', 'coliflor', 'brócoli', 'alcachofa','acelgas','champiñón', 'seta', 'zanahorias', 'tomates', 'cebollas', 'batata', 'lechugas']\n",
    "prob_3_2_2_entre_horas =  ['chocolate', 'galletas','cheesecake', 'copa','brownie','cacao', 'choco', 'berlina', 'trenza', 'napolitana', 'palmeritas', 'mantecadas','gofres', 'sobaos','croissant','snack','chocolate', 'pizza', 'tarta', 'hamburguesa','mayonesa', 'nata','paté','nachos','york','quesos','morcilla', 'ibéricos', 'ibérico','jamón', 'chorizo','chistorra', 'paletilla', 'ibérica', 'salchichón', 'longaniza','paleta','lonchas', 'pavo', 'fiambre','lonchas']\n",
    "cluster2 = [prob_3_2_2_desayuno, prob_3_2_2_comida_cena, prob_3_2_2_entre_horas]\n",
    "\n",
    "prob_3_2_3_desayuno = ['cereales','pan', 'tostada', 'palitos','baguette','hogaza', 'baguettes', 'panadería','cereales','aceite',  'tostadas','leche','cerezas','albaricoque','manzana', 'plátano', 'fresa','uvas','ciruela', 'higos', 'paraguayo', 'arándanos', 'nectarina', 'melocotón', 'naranja', 'mandarina', 'uva', 'peras', 'pera', 'piña','manzanas', 'manzana', 'banana', 'ciruelas', 'paraguayos', 'frambuesas', 'aguacates', 'mango', 'aguacate', 'limón', 'melón', 'sandía', 'kiwis','bífidus','yogur','cereales', 'pan', 'tostada', 'palitos', 'baguette', 'hogaza', 'baguettes', 'panadería', 'cereales','aceite',  'tostadas','galletas','tortitas', 'leche', 'cerezas', 'manzana', 'plátano', 'fresa', 'higos', 'paraguayo', 'nectarina','manzana', 'aguacates', 'mango', 'aguacate',  'limón', 'melón', 'sandía', 'kiwis', 'bífidus', 'queso', 'yogur', 'zumo','leche']\n",
    "prob_3_2_3_comida_cena = ['huevo','huevos','tortiglioni','helice','tallarín','cannelloni','fusilli','pasta', 'spaghetti', 'macarrón', 'tallarines', 'garbanzo','legumbre', 'garbanzos', 'lentejas', 'alubias', 'lenteja', 'alubia','pollo','pechuga','bonito', 'atún', 'rodaballo', 'rape', 'merluza','gallo', 'dorada', 'lubina', 'lenguado', 'calamar','filete','cebolla', 'ajo', 'espinaca', 'alcachofa', 'zanahoria', 'albahaca', 'calabaza', 'remolacha','salmorejo','sopa', 'gazpacho', 'patatas', 'patata', 'arroz', 'tomate','pollo,','proteínas', 'pollo', 'integrales','tiramisú','mousse', 'flan', 'helado','ensalada','alcachofas','champiñones','alcachofa','verduras','verdura', 'pimientos', 'espinacas', 'cebolla','haba', 'rollitos', 'rodajas', 'lechuga', 'iceberg','zanahoria', 'brócoli', 'berenjena','judía','berenjenas', 'coliflor', 'pepino', 'escarola', 'alcachofa', 'tomate', 'puerro', 'calabaza', 'calabacín','pimiento','patata', 'remolacha', 'zanahoria', 'cebolla', 'ajo','ajos','puerro','maíz','remolacha','espárrago', 'puerro','espinaca','rúcula', 'lechuga', 'canónigos', 'coliflor', 'brócoli', 'alcachofa','acelgas','champiñón', 'seta','zanahorias', 'tomates', 'cebollas', 'batata', 'lechugas']\n",
    "prob_3_2_3_entre_horas = ['york','quesos','ibéricos', 'ibérico','jamón','paletilla', 'ibérica','paleta', 'lonchas', 'pavo','lonchas']\n",
    "cluster3 = [prob_3_2_3_desayuno, prob_3_2_3_comida_cena, prob_3_2_3_entre_horas]\n",
    "\n",
    "prob_3_2_4_desayuno = ['cereales','pan', 'tostada', 'palitos','baguette','hogaza','baguettes', 'panadería','cereales','aceite',  'tostadas', 'leche','muesli','cerezas','albaricoque','manzana', 'plátano', 'fresa','uvas','ciruela', 'higos', 'paraguayo', 'arándanos', 'nectarina', 'melocotón', 'naranja', 'mandarina', 'uva', 'peras', 'pera', 'piña', 'manzanas', 'manzana', 'banana', 'ciruelas', 'paraguayos', 'frambuesas','aguacates', 'mango', 'aguacate', 'limón', 'melón', 'sandía', 'kiwis','bífidus','yogur','kéfir','cereales', 'pan', 'tostada', 'palitos', 'baguette', 'hogaza', 'baguettes', 'panadería', 'cereales','aceite',  'tostadas','galletas','tortitas', 'leche', 'cerezas', 'manzana', 'plátano', 'fresa', 'higos', 'paraguayo', 'nectarina','manzana', 'aguacates', 'mango', 'aguacate',  'limón', 'melón', 'sandía', 'kiwis', 'bífidus', 'queso', 'yogur','zumo','leche']\n",
    "prob_3_2_4_comida_cena = ['huevo','huevos','tortiglioni','helice','tallarín','cannelloni','fusilli','pasta', 'spaghetti', 'macarrón', 'tallarines','garbanzo','legumbre', 'garbanzos', 'lentejas', 'alubias', 'lenteja', 'alubia','pollo','pechuga','bonito', 'atún', 'rodaballo', 'rape', 'merluza','gallo', 'dorada', 'lubina', 'lenguado', 'calamar','filete','cebolla', 'ajo', 'espinaca', 'alcachofa', 'zanahoria', 'albahaca', 'calabaza', 'remolacha','salmorejo','sopa', 'gazpacho','patatas', 'patata', 'arroz', 'tomate', 'mozzarella','pollo','proteínas', 'pollo', 'salmón', 'desnatada',  'desnatada', 'desnatada','avena','arroz','0%','integrales','avena','ensalada','alcachofas','champiñones','alcachofa','verduras','verdura', 'pimientos', 'espinacas', 'cebolla','haba', 'rollitos', 'rodajas', 'lechuga', 'iceberg','zanahoria', 'brócoli', 'berenjena','judía','berenjenas', 'coliflor', 'pepino', 'escarola', 'alcachofa','tomate', 'puerro', 'calabaza', 'calabacín','pimiento','patata', 'remolacha', 'zanahoria', 'cebolla', 'ajo','ajos','puerro','maíz','espárrago','puerro','espinaca','rúcula', 'lechuga', 'canónigos', 'coliflor', 'brócoli', 'alcachofa','acelgas','champiñón', 'seta', 'zanahorias', 'tomates', 'cebollas', 'batata', 'lechugas']\n",
    "prob_3_2_4_entre_horas = ['york','lonchas', 'lonchas''lonchas','pavo', 'pavo','pavo','lonchas']\n",
    "cluster4 = [prob_3_2_4_desayuno, prob_3_2_4_comida_cena, prob_3_2_4_entre_horas]"
   ]
  },
  {
   "cell_type": "code",
   "execution_count": 116,
   "metadata": {},
   "outputs": [],
   "source": [
    "def modelo_recomendacion(tipo_comprador):\n",
    "    \n",
    "    if tipo_comprador == '1':\n",
    "        productos = [9,9,3,5,6]\n",
    "        \n",
    "        Desayuno, comida_cena, entre_horas, Cuidado_personal, Hogar = set_probabilities(cluster1)\n",
    "        df_cesta = Desayuno.sample(n=productos[0], weights = Desayuno.prob).append(comida_cena.sample(n=productos[1], weights = comida_cena.prob)).append(entre_horas.sample(n=productos[2], weights = entre_horas.prob))#.append(Hogar.sample(n=productos[3])).append(Cuidado_personal.sample(n=productos[4]))\n",
    "        lista_productos = df_cesta[' Name'].tolist()\n",
    "        precio_total = df_cesta['Price'].sum()\n",
    "    elif tipo_comprador == '2':\n",
    "        productos = [9,9,7,5,6]\n",
    "        Desayuno, comida_cena, entre_horas, Cuidado_personal, Hogar = set_probabilities(cluster2)\n",
    "        df_cesta = Desayuno.sample(n=productos[0], weights = Desayuno.prob).append(comida_cena.sample(n=productos[1], weights = comida_cena.prob)).append(entre_horas.sample(n=productos[2], weights = entre_horas.prob))#.append(Hogar.sample(n=productos[3])).append(Cuidado_personal.sample(n=productos[4]))\n",
    "        lista_productos = df_cesta[' Name'].tolist()\n",
    "        precio_total = df_cesta['Price'].sum()\n",
    "    elif tipo_comprador == '3':\n",
    "        productos = [9,9,7,5,6]\n",
    "        Desayuno, comida_cena, entre_horas, Cuidado_personal, Hogar = set_probabilities(cluster3)\n",
    "        df_cesta = Desayuno.sample(n=productos[0], weights = Desayuno.prob).append(comida_cena.sample(n=productos[1], weights = comida_cena.prob)).append(entre_horas.sample(n=productos[2], weights = entre_horas.prob))#.append(Hogar.sample(n=productos[3])).append(Cuidado_personal.sample(n=productos[4]))\n",
    "        lista_productos = df_cesta[' Name'].tolist()\n",
    "        precio_total = df_cesta['Price'].sum()\n",
    "    elif tipo_comprador == '4':\n",
    "        productos = [9,9,7,5,6]\n",
    "        Desayuno, comida_cena, entre_horas, Cuidado_personal, Hogar = set_probabilities(cluster4)\n",
    "        df_cesta = Desayuno.sample(n=productos[0], weights = Desayuno.prob).append(comida_cena.sample(n=productos[1], weights = comida_cena.prob)).append(entre_horas.sample(n=productos[2], weights = entre_horas.prob))#.append(Hogar.sample(n=productos[3])).append(Cuidado_personal.sample(n=productos[4]))\n",
    "        lista_productos = df_cesta[' Name'].tolist()\n",
    "        precio_total = df_cesta['Price'].sum()\n",
    "    return lista_productos, precio_total\n"
   ]
  },
  {
   "cell_type": "code",
   "execution_count": null,
   "metadata": {},
   "outputs": [],
   "source": []
  }
 ],
 "metadata": {
  "kernelspec": {
   "display_name": "tuduu",
   "language": "python",
   "name": "python3"
  },
  "language_info": {
   "codemirror_mode": {
    "name": "ipython",
    "version": 3
   },
   "file_extension": ".py",
   "mimetype": "text/x-python",
   "name": "python",
   "nbconvert_exporter": "python",
   "pygments_lexer": "ipython3",
   "version": "3.10.8 (main, Nov 24 2022, 08:09:04) [Clang 14.0.6 ]"
  },
  "orig_nbformat": 4,
  "vscode": {
   "interpreter": {
    "hash": "64e18713956ab5a90aaccdc45f713bdbd8fca881e4217159cada69fc241a9a73"
   }
  }
 },
 "nbformat": 4,
 "nbformat_minor": 2
}
