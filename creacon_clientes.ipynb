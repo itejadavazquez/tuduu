{
 "cells": [
  {
   "attachments": {},
   "cell_type": "markdown",
   "metadata": {},
   "source": [
    "# 1. Librerías"
   ]
  },
  {
   "cell_type": "code",
   "execution_count": 2,
   "metadata": {},
   "outputs": [],
   "source": [
    "import pandas as pd \n",
    "import numpy as np\n",
    "\n",
    "import json\n",
    "import requests\n",
    "import random\n",
    "\n",
    "from sklearn.cluster import KMeans"
   ]
  },
  {
   "attachments": {},
   "cell_type": "markdown",
   "metadata": {},
   "source": [
    "# 2. Datos"
   ]
  },
  {
   "cell_type": "code",
   "execution_count": 3,
   "metadata": {},
   "outputs": [],
   "source": [
    "prueba={\n",
    "  'Celiaco': 'Celiaco',\n",
    "  'Vegano': 'Vegano',\n",
    "  'Vegetariano': 'Vegetariano',\n",
    "  'Intolerante lactosa': 'Intolerante lactosa',\n",
    "  'RespDesBeb1': 'Zumo natural',\n",
    "  'RespDesBeb2': 'zumo bote ',\n",
    "  'RespDesBeb3': 'Café cafetera',\n",
    "  'RespDesBeb4': 'Café soluble',\n",
    "  'RespDesBeb5': 'Café cápsulas',\n",
    "  'Resp.DesBeb6': 'Leche entera',\n",
    "  'Resp.DesBeb7': 'Leche sin lactosa',\n",
    "  'Resp.DesBeb8': 'Leche avena ',\n",
    "  'Resp.DesBeb9': 'Leche semidesnatada',\n",
    "  'Res.DesCom.1': 'Tostada aceite',\n",
    "  'Res.DesCom.2': 'Tostada tomate y jamón',\n",
    "  'Res.DesCom.3': 'tostada mantequilla',\n",
    "  'Res.DesCom.4': 'Tostada pavo y aguacate',\n",
    "  'Res.DesCom.5': 'Avena / Muesli con leche ',\n",
    "  'Res.DesCom.6': 'Galletas choco ',\n",
    "  'Res.DesCom.7': 'Galletas fibra ',\n",
    "  'Res.DesCom.8': 'Galletas \"María\" ',\n",
    "  'Res.Com.Cen.1': 'Pollo',\n",
    "  'Res.Com.Cen.2': 'Carne cerdo',\n",
    "  'Res.Com.Cen.3': 'Carne roja ',\n",
    "  'Res.Com.Cen.4': 'Pasta normal',\n",
    "  'Res.Com.Cen.5': 'Pasta integral ',\n",
    "  'Res.Com.Cen.6': 'Pescado azul ',\n",
    "  'Res.Com.Cen.7': 'Pescado blanco ',\n",
    "  'Res.Com.Cen.8': 'Legumbres con chorizo, morcilla ... ',\n",
    "  'RespBebi.1': 'Cerveza ',\n",
    "  'RespBebi.2': 'Vino tinto ',\n",
    "  'RespBebi.3': 'Vino blanco ',\n",
    "  'RespBebi.4': 'Vino rosado ',\n",
    "  'Resp.Entrehoras1': 'Chocolate',\n",
    "  'Resp.Entrehoras2': 'Barritas, algo saludable...',\n",
    "  'Resp.Entrehoras3': 'Patatas fritas (empezar y no parar)',\n",
    "  'Resp.Entrehoras4': 'Queso, frutos secos... hay que cuidarse!'}"
   ]
  },
  {
   "cell_type": "code",
   "execution_count": 4,
   "metadata": {},
   "outputs": [],
   "source": [
    "#json to dataframe\n",
    "df = pd.DataFrame.from_dict(prueba, orient='index').reset_index()"
   ]
  },
  {
   "cell_type": "code",
   "execution_count": null,
   "metadata": {},
   "outputs": [],
   "source": [
    "df = pd.read_csv('Menu_Items.csv')"
   ]
  },
  {
   "attachments": {},
   "cell_type": "markdown",
   "metadata": {},
   "source": [
    "# 3. Segmentación de datos\n",
    "### 3.1. Creamos datos aleatorios (clientes que han respondido al test)"
   ]
  },
  {
   "cell_type": "code",
   "execution_count": 13,
   "metadata": {},
   "outputs": [],
   "source": [
    "# Creamos combinaciones de todos los posibles clientes\n",
    "individuos = [[random.choice([0, 1]) for _ in range(len(df))] for _ in range(100)]"
   ]
  },
  {
   "cell_type": "code",
   "execution_count": 19,
   "metadata": {},
   "outputs": [],
   "source": [
    "df_clusters = pd.DataFrame(individuos, columns = df[0].tolist())"
   ]
  },
  {
   "attachments": {},
   "cell_type": "markdown",
   "metadata": {},
   "source": [
    "### 3.2. Creamos algoritmo de segmentación"
   ]
  },
  {
   "cell_type": "code",
   "execution_count": 26,
   "metadata": {},
   "outputs": [
    {
     "data": {
      "text/plain": [
       "array([1, 1, 1, 0, 2, 0, 1, 1, 0, 0, 2, 0, 0, 0, 2, 2, 0, 0, 2, 2, 2, 0,\n",
       "       2, 2, 1, 0, 0, 2, 2, 0, 0, 1, 2, 1, 1, 2, 0, 1, 2, 1, 0, 0, 2, 0,\n",
       "       0, 2, 1, 2, 2, 1, 1, 0, 2, 2, 2, 2, 1, 2, 1, 1, 1, 1, 1, 2, 1, 1,\n",
       "       2, 1, 1, 2, 0, 0, 1, 0, 0, 2, 0, 2, 1, 1, 2, 0, 2, 0, 0, 0, 1, 0,\n",
       "       1, 1, 1, 2, 2, 1, 2, 0, 1, 2, 1, 2], dtype=int32)"
      ]
     },
     "execution_count": 26,
     "metadata": {},
     "output_type": "execute_result"
    }
   ],
   "source": [
    "# Segmentación\n",
    "kmeans = KMeans(n_clusters=3, random_state=0, n_init=\"auto\").fit(df_clusters.values)\n",
    "kmeans.labels_"
   ]
  },
  {
   "cell_type": "code",
   "execution_count": null,
   "metadata": {},
   "outputs": [
    {
     "data": {
      "text/plain": [
       "array([1], dtype=int32)"
      ]
     },
     "execution_count": 40,
     "metadata": {},
     "output_type": "execute_result"
    }
   ],
   "source": [
    "kmeans.predict(np.array([random.choice([0, 1]) for _ in range(len(df))]).reshape(1, -1))"
   ]
  }
 ],
 "metadata": {
  "kernelspec": {
   "display_name": "tuduu",
   "language": "python",
   "name": "python3"
  },
  "language_info": {
   "codemirror_mode": {
    "name": "ipython",
    "version": 3
   },
   "file_extension": ".py",
   "mimetype": "text/x-python",
   "name": "python",
   "nbconvert_exporter": "python",
   "pygments_lexer": "ipython3",
   "version": "3.10.8"
  },
  "orig_nbformat": 4,
  "vscode": {
   "interpreter": {
    "hash": "64e18713956ab5a90aaccdc45f713bdbd8fca881e4217159cada69fc241a9a73"
   }
  }
 },
 "nbformat": 4,
 "nbformat_minor": 2
}
